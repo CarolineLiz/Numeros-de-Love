{
  "cells": [
    {
      "cell_type": "markdown",
      "metadata": {
        "id": "DzaPAbo7oWbe"
      },
      "source": [
        "Código escrito por Caroline Meurer de Liz com base no código desenvolvido por João Vitor Zastrow, ambos do grupo de pesquisa em Astrofísica Relativistica Computacional, do ppgf da UDESC-CCT.\n",
        "________________________\n",
        "Dedução da expressão do Número de Love $k_2$ a partir dos polinômios de Legendre e recuperação da expressão newtoniana de $k_2$."
      ]
    },
    {
      "cell_type": "code",
      "execution_count": 2,
      "metadata": {
        "id": "sXa3WsqdoWbk"
      },
      "outputs": [],
      "source": [
        "import sympy as sp"
      ]
    },
    {
      "cell_type": "code",
      "execution_count": 35,
      "metadata": {
        "id": "MOXWbIBcoWbm"
      },
      "outputs": [],
      "source": [
        "# Símbolos e funções a serem utilizadas:\n",
        "\n",
        "x, r, M, R, C, y, delta_M, delta_R, delta_C, delta_y = sp.symbols('x r M R C y delta_M delta_R delta_C delta_y')\n",
        "\n",
        "P = sp.Function('P')(x)\n",
        "Q = sp.Function('Q')(x)\n",
        "\n",
        "P = 3*(x**2 -1)\n",
        "Q = sp.Rational(3,2)*(x**2 -1)*sp.log((x+1)/(x-1)) + (2*x)/(x**2 -1)-3*x"
      ]
    },
    {
      "cell_type": "code",
      "execution_count": 36,
      "metadata": {
        "id": "cDOxmLx6oWbn"
      },
      "outputs": [],
      "source": [
        "# Método para simplificação:\n",
        "\n",
        "def simplify_expr(expr):\n",
        "    expr = sp.simplify(expr)\n",
        "    expr = expr.subs(sp.log(-1/(2*C -1)), -sp.log(1- 2*C))\n",
        "    expr = sp.expand(expr)\n",
        "    expr = sp.factor(expr)\n",
        "    expr = sp.collect(expr, sp.log(1- 2*C))\n",
        "    return expr"
      ]
    },
    {
      "cell_type": "code",
      "execution_count": 37,
      "metadata": {
        "colab": {
          "base_uri": "https://localhost:8080/",
          "height": 38
        },
        "id": "Us5_AZ-QoWbn",
        "outputId": "8e2e24eb-0f0e-4dc2-8085-d6fed08922e3"
      },
      "outputs": [
        {
          "output_type": "execute_result",
          "data": {
            "text/plain": [
              "3*x**2 - 3"
            ],
            "text/latex": "$\\displaystyle 3 x^{2} - 3$"
          },
          "metadata": {},
          "execution_count": 37
        }
      ],
      "source": [
        "# Expressão do função associada de Legendre de primeira espécie:\n",
        "P"
      ]
    },
    {
      "cell_type": "code",
      "execution_count": 38,
      "metadata": {
        "colab": {
          "base_uri": "https://localhost:8080/",
          "height": 58
        },
        "id": "0c-W8JbYoWbp",
        "outputId": "ef9b4b94-90a0-4023-b92f-d28c62c7f826"
      },
      "outputs": [
        {
          "output_type": "execute_result",
          "data": {
            "text/plain": [
              "-3*x + 2*x/(x**2 - 1) + (3*x**2/2 - 3/2)*log((x + 1)/(x - 1))"
            ],
            "text/latex": "$\\displaystyle - 3 x + \\frac{2 x}{x^{2} - 1} + \\left(\\frac{3 x^{2}}{2} - \\frac{3}{2}\\right) \\log{\\left(\\frac{x + 1}{x - 1} \\right)}$"
          },
          "metadata": {},
          "execution_count": 38
        }
      ],
      "source": [
        "# Expressão do função associada de Legendre de segunda espécie:\n",
        "Q"
      ]
    },
    {
      "cell_type": "code",
      "execution_count": 39,
      "metadata": {
        "colab": {
          "base_uri": "https://localhost:8080/",
          "height": 38
        },
        "id": "hfphRtM6oWbq",
        "outputId": "f0eb560a-b136-4e32-926b-dbb2cdafcfc9"
      },
      "outputs": [
        {
          "output_type": "execute_result",
          "data": {
            "text/plain": [
              "6*x"
            ],
            "text/latex": "$\\displaystyle 6 x$"
          },
          "metadata": {},
          "execution_count": 39
        }
      ],
      "source": [
        "# Calculo da derivada de P(x):\n",
        "dP_dx = sp.diff(P, x)\n",
        "dP_dx"
      ]
    },
    {
      "cell_type": "code",
      "execution_count": 40,
      "metadata": {
        "colab": {
          "base_uri": "https://localhost:8080/",
          "height": 58
        },
        "id": "WA4TdOq0oWbq",
        "outputId": "549f7e5c-7a3d-446a-87a9-020f01ddf3a2"
      },
      "outputs": [
        {
          "output_type": "execute_result",
          "data": {
            "text/plain": [
              "(-6*x**4 + 10*x**2 + (3*x**5 - 6*x**3 + 3*x)*log((x + 1)/(x - 1)) - 8)/(x**4 - 2*x**2 + 1)"
            ],
            "text/latex": "$\\displaystyle \\frac{- 6 x^{4} + 10 x^{2} + \\left(3 x^{5} - 6 x^{3} + 3 x\\right) \\log{\\left(\\frac{x + 1}{x - 1} \\right)} - 8}{x^{4} - 2 x^{2} + 1}$"
          },
          "metadata": {},
          "execution_count": 40
        }
      ],
      "source": [
        "# Calculo da derivada de Q(x):\n",
        "dQ_dx = sp.diff(Q, x)\n",
        "dQ_dx = sp.simplify(dQ_dx)\n",
        "dQ_dx = sp.collect(dQ_dx, sp.log((x + 1) / (x - 1)))\n",
        "dQ_dx"
      ]
    },
    {
      "cell_type": "code",
      "execution_count": 41,
      "metadata": {
        "colab": {
          "base_uri": "https://localhost:8080/",
          "height": 53
        },
        "id": "5XyxW727oWbr",
        "outputId": "472a4a73-5a57-4a7c-f71e-a0ed0d4a2f87"
      },
      "outputs": [
        {
          "output_type": "execute_result",
          "data": {
            "text/plain": [
              "3*(1 - 2*C)/C**2"
            ],
            "text/latex": "$\\displaystyle \\frac{3 \\cdot \\left(1 - 2 C\\right)}{C^{2}}$"
          },
          "metadata": {},
          "execution_count": 41
        }
      ],
      "source": [
        "# Substituindo x por (C**(-1) -1) em P:\n",
        "P = P.subs(x, C**(-1) - 1)\n",
        "P = sp.simplify(P)\n",
        "P"
      ]
    },
    {
      "cell_type": "code",
      "execution_count": 42,
      "metadata": {
        "colab": {
          "base_uri": "https://localhost:8080/",
          "height": 60
        },
        "id": "ho-PJxuDoWbs",
        "outputId": "beda0ada-7848-4990-f0b5-b352b193c45b"
      },
      "outputs": [
        {
          "output_type": "execute_result",
          "data": {
            "text/plain": [
              "(4*C**4 + 8*C**3 - 18*C**2 + 6*C + (12*C**2 - 12*C + 3)*log(1 - 2*C))/(2*C**2*(2*C - 1))"
            ],
            "text/latex": "$\\displaystyle \\frac{4 C^{4} + 8 C^{3} - 18 C^{2} + 6 C + \\left(12 C^{2} - 12 C + 3\\right) \\log{\\left(1 - 2 C \\right)}}{2 C^{2} \\cdot \\left(2 C - 1\\right)}$"
          },
          "metadata": {},
          "execution_count": 42
        }
      ],
      "source": [
        "# Substituindo x por (C**(-1) -1) em Q:\n",
        "Q = Q.subs(x, C**(-1) - 1)\n",
        "Q = simplify_expr(Q)\n",
        "Q"
      ]
    },
    {
      "cell_type": "code",
      "execution_count": 43,
      "metadata": {
        "colab": {
          "base_uri": "https://localhost:8080/",
          "height": 53
        },
        "id": "xhKaS_mIoWbt",
        "outputId": "f649a2c6-7ad1-4690-faf2-a2b890e321b7"
      },
      "outputs": [
        {
          "output_type": "execute_result",
          "data": {
            "text/plain": [
              "6*(1 - C)/(C*M)"
            ],
            "text/latex": "$\\displaystyle \\frac{6 \\cdot \\left(1 - C\\right)}{C M}$"
          },
          "metadata": {},
          "execution_count": 43
        }
      ],
      "source": [
        "# Calculo da derivada de P(r) e substituição de  x por (C**(-1) -1):\n",
        "dP_dr = M**(-1) * dP_dx\n",
        "dP_dr = dP_dr.subs(x, C**(-1) - 1)\n",
        "dP_dr = sp.simplify(dP_dr)\n",
        "dP_dr"
      ]
    },
    {
      "cell_type": "code",
      "execution_count": 44,
      "metadata": {
        "colab": {
          "base_uri": "https://localhost:8080/",
          "height": 62
        },
        "id": "NopIq3rKoWbt",
        "outputId": "664720c8-d613-4a79-f998-e6e0b7570818"
      },
      "outputs": [
        {
          "output_type": "execute_result",
          "data": {
            "text/plain": [
              "-(4*C**5 - 4*C**4 + 26*C**3 - 24*C**2 + 6*C + (-12*C**3 + 24*C**2 - 15*C + 3)*log(1 - 2*C))/(C*M*(2*C - 1)**2)"
            ],
            "text/latex": "$\\displaystyle - \\frac{4 C^{5} - 4 C^{4} + 26 C^{3} - 24 C^{2} + 6 C + \\left(- 12 C^{3} + 24 C^{2} - 15 C + 3\\right) \\log{\\left(1 - 2 C \\right)}}{C M \\left(2 C - 1\\right)^{2}}$"
          },
          "metadata": {},
          "execution_count": 44
        }
      ],
      "source": [
        "# Calculo da derivada de Q(r) e substituição de  x por (C**(-1) -1):\n",
        "dQ_dr = M**(-1) * dQ_dx\n",
        "dQ_dr = dQ_dr.subs(x, C**(-1) -1)\n",
        "dQ_dr = simplify_expr(dQ_dr)\n",
        "dQ_dr"
      ]
    },
    {
      "cell_type": "code",
      "execution_count": 45,
      "metadata": {
        "colab": {
          "base_uri": "https://localhost:8080/",
          "height": 53
        },
        "id": "f9wCnArZoWbu",
        "outputId": "3391e2d5-017d-45ce-f312-8a1fe4ebb35d"
      },
      "outputs": [
        {
          "output_type": "execute_result",
          "data": {
            "text/plain": [
              "3*(2*C*y - 2*C - y + 2)/C**2"
            ],
            "text/latex": "$\\displaystyle \\frac{3 \\cdot \\left(2 C y - 2 C - y + 2\\right)}{C^{2}}$"
          },
          "metadata": {},
          "execution_count": 45
        }
      ],
      "source": [
        "# Calculo do numerador da expressão de k2:\n",
        "numerator = R * dP_dr - y * P\n",
        "numerator = numerator.subs(R / M, C**(-1))\n",
        "numerator = simplify_expr(numerator)\n",
        "numerator"
      ]
    },
    {
      "cell_type": "code",
      "execution_count": 46,
      "metadata": {
        "colab": {
          "base_uri": "https://localhost:8080/",
          "height": 62
        },
        "id": "CtDvWduzoWbu",
        "outputId": "eeb74397-9872-4da6-fd8c-586d62c1f416"
      },
      "outputs": [
        {
          "output_type": "execute_result",
          "data": {
            "text/plain": [
              "(8*C**5*y + 8*C**5 + 12*C**4*y - 8*C**4 - 44*C**3*y + 52*C**3 + 30*C**2*y - 48*C**2 - 6*C*y + 12*C + (24*C**3*y - 24*C**3 - 36*C**2*y + 48*C**2 + 18*C*y - 30*C - 3*y + 6)*log(1 - 2*C))/(2*C**2*(2*C - 1)**2)"
            ],
            "text/latex": "$\\displaystyle \\frac{8 C^{5} y + 8 C^{5} + 12 C^{4} y - 8 C^{4} - 44 C^{3} y + 52 C^{3} + 30 C^{2} y - 48 C^{2} - 6 C y + 12 C + \\left(24 C^{3} y - 24 C^{3} - 36 C^{2} y + 48 C^{2} + 18 C y - 30 C - 3 y + 6\\right) \\log{\\left(1 - 2 C \\right)}}{2 C^{2} \\left(2 C - 1\\right)^{2}}$"
          },
          "metadata": {},
          "execution_count": 46
        }
      ],
      "source": [
        "# Calculo do denominador da expressão de k2:\n",
        "denominator = y * Q - R * dQ_dr\n",
        "denominator = denominator.subs(R / M, C**(-1))\n",
        "denominator = simplify_expr(denominator)\n",
        "denominator"
      ]
    },
    {
      "cell_type": "code",
      "execution_count": 47,
      "metadata": {
        "colab": {
          "base_uri": "https://localhost:8080/",
          "height": 60
        },
        "id": "xpPnjOxsoWbu",
        "outputId": "a544cc06-ae36-4ac1-b922-8ce533afb505"
      },
      "outputs": [
        {
          "output_type": "execute_result",
          "data": {
            "text/plain": [
              "8*C**5*(2*C - 1)**2*(2*C*y - 2*C - y + 2)/(5*(8*C**5*y + 8*C**5 + 12*C**4*y - 8*C**4 - 44*C**3*y + 52*C**3 + 30*C**2*y - 48*C**2 - 6*C*y + 12*C + (24*C**3*y - 24*C**3 - 36*C**2*y + 48*C**2 + 18*C*y - 30*C - 3*y + 6)*log(1 - 2*C)))"
            ],
            "text/latex": "$\\displaystyle \\frac{8 C^{5} \\left(2 C - 1\\right)^{2} \\cdot \\left(2 C y - 2 C - y + 2\\right)}{5 \\cdot \\left(8 C^{5} y + 8 C^{5} + 12 C^{4} y - 8 C^{4} - 44 C^{3} y + 52 C^{3} + 30 C^{2} y - 48 C^{2} - 6 C y + 12 C + \\left(24 C^{3} y - 24 C^{3} - 36 C^{2} y + 48 C^{2} + 18 C y - 30 C - 3 y + 6\\right) \\log{\\left(1 - 2 C \\right)}\\right)}$"
          },
          "metadata": {},
          "execution_count": 47
        }
      ],
      "source": [
        "# Expressão completa de k2:\n",
        "k2 = sp.Rational(4, 15) * C**5 * numerator / denominator\n",
        "k2 = simplify_expr(k2)\n",
        "k2"
      ]
    },
    {
      "cell_type": "code",
      "execution_count": 33,
      "metadata": {
        "colab": {
          "base_uri": "https://localhost:8080/",
          "height": 73
        },
        "id": "zIKJZ1YJoWbv",
        "outputId": "404cd818-1c46-4f2d-8767-721453e74ef2"
      },
      "outputs": [
        {
          "output_type": "execute_result",
          "data": {
            "text/plain": [
              "8*C**5*(1 - 2*C)**2*(2*C*(y - 1) - y + 2)/(5*(4*C**3*(2*C**2*(y + 1) + C*(3*y - 2) - 11*y + 13) + 2*C*(3*C*(5*y - 8) - 3*y + 6) + 3*(1 - 2*C)**2*(2*C*(y - 1) - y + 2)*log(1 - 2*C)))"
            ],
            "text/latex": "$\\displaystyle \\frac{8 C^{5} \\left(1 - 2 C\\right)^{2} \\cdot \\left(2 C \\left(y - 1\\right) - y + 2\\right)}{5 \\cdot \\left(4 C^{3} \\cdot \\left(2 C^{2} \\left(y + 1\\right) + C \\left(3 y - 2\\right) - 11 y + 13\\right) + 2 C \\left(3 C \\left(5 y - 8\\right) - 3 y + 6\\right) + 3 \\left(1 - 2 C\\right)^{2} \\cdot \\left(2 C \\left(y - 1\\right) - y + 2\\right) \\log{\\left(1 - 2 C \\right)}\\right)}$"
          },
          "metadata": {},
          "execution_count": 33
        }
      ],
      "source": [
        "# Expressão do k2, encontrada em artigos publicados:\n",
        "k2_paper = sp.Rational(8, 5) * C**5 * (1 - 2 * C)**2 * (2 + 2 * C * (y - 1) - y) *(\n",
        "    2 * C * (6 - 3 * y + 3 * C * (5 * y - 8)) +\n",
        "    4 * C**3 * (13 - 11 * y + C * (3 * y - 2) + 2 * C**2 * (1 + y)) +\n",
        "    3 * (1 - 2 * C)**2 * (2 - y + 2 * C * (y - 1)) * sp.log(1 - 2 * C)\n",
        ")**(-1)\n",
        "k2_paper"
      ]
    },
    {
      "cell_type": "code",
      "execution_count": 48,
      "metadata": {
        "colab": {
          "base_uri": "https://localhost:8080/"
        },
        "id": "it0GJ836oWbv",
        "outputId": "4beb2756-66a2-4a05-c5ac-4a55311b1ec0"
      },
      "outputs": [
        {
          "output_type": "execute_result",
          "data": {
            "text/plain": [
              "True"
            ]
          },
          "metadata": {},
          "execution_count": 48
        }
      ],
      "source": [
        "# Comparação da expressão de k2 calculada com a esperada:\n",
        "k2.expand() == k2_paper.expand()"
      ]
    },
    {
      "cell_type": "code",
      "execution_count": 49,
      "metadata": {
        "colab": {
          "base_uri": "https://localhost:8080/",
          "height": 55
        },
        "id": "itsxX_a-oWbv",
        "outputId": "0130601a-d1e7-40d9-d876-5bc773d958c8"
      },
      "outputs": [
        {
          "output_type": "execute_result",
          "data": {
            "text/plain": [
              "-(y - 2)/(2*(y + 3))"
            ],
            "text/latex": "$\\displaystyle - \\frac{y - 2}{2 \\left(y + 3\\right)}$"
          },
          "metadata": {},
          "execution_count": 49
        }
      ],
      "source": [
        "# Calculo do limite de k2 com C --> 0:\n",
        "k2_limit_C_0 = sp.limit(k2, C, 0)\n",
        "k2_limit_C_0 = simplify_expr(k2_limit_C_0)\n",
        "k2_limit_C_0"
      ]
    },
    {
      "cell_type": "markdown",
      "source": [
        "Ou seja, fazendo o limite de $k_2$ com C indo a zero, é possível recuperar a expressão dos Números de Love para o caso clássico:\n",
        "\n",
        "$$k^N_2 = \\frac{1}{2} \\left ( \\frac{2-y}{y+3} \\right )$$\n",
        "\n",
        "A dedução do caso clássico e a recuperação do resultado clássico a partir dos números de Love relativísticos podem ser consultadas em:\n",
        "\n",
        "\n",
        "MOTTA, Pedro Naethe et al. Efeitos de maré: uma abordagem newtoniana e relativística dos números de Love.\n",
        "\n",
        "HINDERER, Tanja. Tidal Love numbers of neutron stars. The Astrophysical Journal, v. 677, n. 2, p. 1216, 2008.\n"
      ],
      "metadata": {
        "id": "5jmPuKnhzm1J"
      }
    }
  ],
  "metadata": {
    "kernelspec": {
      "display_name": "physics",
      "language": "python",
      "name": "python3"
    },
    "language_info": {
      "codemirror_mode": {
        "name": "ipython",
        "version": 3
      },
      "file_extension": ".py",
      "mimetype": "text/x-python",
      "name": "python",
      "nbconvert_exporter": "python",
      "pygments_lexer": "ipython3",
      "version": "3.12.1"
    },
    "colab": {
      "provenance": []
    }
  },
  "nbformat": 4,
  "nbformat_minor": 0
}